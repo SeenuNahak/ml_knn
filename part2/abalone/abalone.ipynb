{
 "cells": [
  {
   "cell_type": "markdown",
   "id": "bb6b542f",
   "metadata": {},
   "source": [
    "# Setup"
   ]
  },
  {
   "cell_type": "code",
   "execution_count": null,
   "id": "69f4c452",
   "metadata": {},
   "outputs": [],
   "source": [
    "# import common libraries\n",
    "import pandas as pd\n",
    "import numpy as np\n",
    "import matplotlib.pyplot as plt\n",
    "import seaborn as sns\n",
    "from math import sqrt\n",
    "import operator\n",
    "\n",
    "# import specific components from scikit-learn\n",
    "from sklearn.model_selection import train_test_split\n",
    "from sklearn.neighbors import KNeighborsRegressor\n",
    "from sklearn.metrics import mean_absolute_error, mean_squared_error, r2_score\n",
    "from sklearn.metrics import mean_squared_error\n",
    "from sklearn.ensemble import BaggingRegressor\n",
    "\n",
    "# enhanced stats functions\n",
    "from scipy import stats\n",
    "\n",
    "# for ease of data profiling\n",
    "from pandas_profiling import ProfileReport\n",
    "\n",
    "# for removal of warnings\n",
    "import warnings\n",
    "warnings.filterwarnings(\"ignore\")"
   ]
  },
  {
   "cell_type": "code",
   "execution_count": null,
   "id": "7fc8edbf",
   "metadata": {
    "scrolled": false
   },
   "outputs": [],
   "source": [
    "# print environment setup details\n",
    "print(f\"pandas version  : {pd.__version__}\")  # 1.4.3\n",
    "print(f\"numpy version   : {np.__version__}\")  # 1.23.1"
   ]
  },
  {
   "cell_type": "markdown",
   "id": "b31621c8",
   "metadata": {},
   "source": [
    "Here, we also set the seed for numpy's random number generator such that our results are fully reproducible. This is because the other libraries (e.g. scikit-learn) use this random number generator, so if we set the seed we will always generate the same random numbers in the same sequence.\n",
    "\n",
    "Thus, whenever we run the notebook from top-to-bottom, we will end up with the *exact* same results! "
   ]
  },
  {
   "cell_type": "code",
   "execution_count": null,
   "id": "15c8144d",
   "metadata": {},
   "outputs": [],
   "source": [
    "SEED = 12345\n",
    "np.random.seed(SEED)"
   ]
  },
  {
   "cell_type": "markdown",
   "id": "a350d6ac",
   "metadata": {},
   "source": [
    "# Data Loading\n",
    "To load in the data for this project, read in data directly from the provided URL into a variable called `abalone` as a pandas DataFrame. The first two rows of the DataFrame should look like this:\n",
    "\n",
    "|     | Sex | Length | Diameter | Height | Whole weight | Shucked weight | Viscera weight | Shell weight | Rings |\n",
    "| --- | --- | ------ | -------- | ------ | ------------ | -------------- | -------------- | ------------ | ----- |\n",
    "| **0**| M  | 0.455  | 0.365    | 0.095  | 0.5140       | 0.2245         | 0.1010         | 0.150        | 15    |\n",
    "| **1**| M  | 0.350  | 0.265    | 0.090  | 0.2255       | 0.0995         | 0.0485         | 0.070        |  7    |\n",
    "| **2**| F  | 0.530  | 0.420    | 0.135  | 0.6770       | 0.2565         | 0.1415         | 0.210        |  9    |\n",
    "| **3**| M  | 0.440  | 0.365    | 0.125  | 0.5160       | 0.2155         | 0.1140         | 0.155        | 10    |\n",
    "| **4**| I  | 0.330  | 0.255    | 0.080  | 0.2050       | 0.0895         | 0.0395         | 0.055        |  7    |"
   ]
  },
  {
   "cell_type": "code",
   "execution_count": null,
   "id": "7cef3385",
   "metadata": {},
   "outputs": [],
   "source": [
    "# provided url to read csv file from directly\n",
    "url = (\"https://archive.ics.uci.edu/ml/machine-learning-databases/abalone/abalone.data\")\n",
    "# read in data from the provided url without 'header'\n",
    "abalone = pd.read_csv(url, header=None)\n",
    "# provided column names to add to your dataset\n",
    "abalone.columns = [\"Sex\",\"Length\",\"Diameter\",\"Height\",\"Whole weight\",\"Shucked weight\",\"Viscera weight\",\"Shell weight\",\"Rings\",]"
   ]
  },
  {
   "cell_type": "code",
   "execution_count": null,
   "id": "c7b56d24",
   "metadata": {},
   "outputs": [],
   "source": [
    "# make sure data was read in properly and matches above table\n",
    "abalone.head()"
   ]
  },
  {
   "cell_type": "markdown",
   "id": "53c69c0e",
   "metadata": {},
   "source": [
    "The model will be using purely physical measurements to predict the age of the abalone. Since sex is not a purely physical measure, let's remove it from the dataset."
   ]
  },
  {
   "cell_type": "code",
   "execution_count": null,
   "id": "8bc01f1d",
   "metadata": {},
   "outputs": [],
   "source": [
    "# delete the 'Sex' column using .drop\n",
    "abalone = abalone.drop(\"Sex\", axis=1)"
   ]
  },
  {
   "cell_type": "markdown",
   "id": "f036976a",
   "metadata": {},
   "source": [
    "# EDA\n",
    "Now it is time for you to practice your EDA skills! Take a look at the Quest 3 Quiz, and answer the questions on the results of your EDA on the dataset.\n",
    "\n",
    "This time, you don't get the data dictionary! You have to go look at the dataset's website and take a look yourself, like you would have to if this was a real project.\n",
    "\n",
    "Here's the website where the dataset came from: [the UCI Machine Learning Repository](https://archive.ics.uci.edu/ml/datasets/abalone)."
   ]
  },
  {
   "cell_type": "code",
   "execution_count": null,
   "id": "db665e03",
   "metadata": {},
   "outputs": [],
   "source": [
    "# optional: use pandas-profiling to do quick first pass at EDA\n",
    "profile = ProfileReport(abalone, title=\"Abalone Dataset Profiling Report\")\n",
    "# create html file to view report\n",
    "profile.to_file(\"abalone_dataset_report.html\")"
   ]
  },
  {
   "cell_type": "code",
   "execution_count": null,
   "id": "73741f16",
   "metadata": {},
   "outputs": [],
   "source": [
    "# conduct any other EDA that you need to in order to get a good feel for the data\n",
    "abalone.describe()"
   ]
  },
  {
   "cell_type": "markdown",
   "id": "70f9aaa8",
   "metadata": {},
   "source": [
    "With the EDA you have conducted, answer the following questions from the quiz. Note that these questions do not cover everything you should be looking for when doing EDA, they are just to give you an idea of what EDA would look like on such a dataset.\n",
    "## Question 1\n",
    "What is the median whole weight of the abalones in the dataset?"
   ]
  },
  {
   "cell_type": "code",
   "execution_count": null,
   "id": "2e62c0a2",
   "metadata": {},
   "outputs": [],
   "source": [
    "# calculate median of whole weight of abalones\n"
   ]
  },
  {
   "cell_type": "markdown",
   "id": "e3929b6f",
   "metadata": {},
   "source": [
    "## Question 2\n",
    "How old is an abalone with a `Rings` value of 9?\n",
    "\n",
    "hint: you'll have to look at the dataset website! (under 'attribute information')"
   ]
  },
  {
   "cell_type": "markdown",
   "id": "ae6bcf5f",
   "metadata": {},
   "source": [
    "## Question 3\n",
    "Which bin range has the most number of observations for the variable 'Rings'?"
   ]
  },
  {
   "cell_type": "code",
   "execution_count": null,
   "id": "be8f2599",
   "metadata": {},
   "outputs": [],
   "source": [
    "# plot a histogram of the `Rings` with 15 bins\n",
    "\n",
    "\n",
    "plt.show()"
   ]
  },
  {
   "cell_type": "markdown",
   "id": "bccf2b98",
   "metadata": {},
   "source": [
    "## Question 4\n",
    "Which independent variable is least correlated to the dependent variable `Rings` ?"
   ]
  },
  {
   "cell_type": "code",
   "execution_count": null,
   "id": "3e786f53",
   "metadata": {},
   "outputs": [],
   "source": [
    "# plot correlation matrix to get a sense of what variables are correlated to 'Rings' using corr()\n",
    "\n"
   ]
  },
  {
   "cell_type": "markdown",
   "id": "e16fadca",
   "metadata": {},
   "source": [
    "# Data Wrangling\n",
    "Excellent! Now separate our independent variables into a variable called `X`, and our target variable `Rings` into a variable called `y`."
   ]
  },
  {
   "cell_type": "code",
   "execution_count": null,
   "id": "9032f0ae",
   "metadata": {},
   "outputs": [],
   "source": [
    "# split up our variables\n",
    "X = abalone.drop(\"Rings\", axis=1)\n",
    "X = X.values\n",
    "y = abalone[\"Rings\"]\n",
    "y = y.values"
   ]
  },
  {
   "cell_type": "code",
   "execution_count": null,
   "id": "208e0d3f",
   "metadata": {},
   "outputs": [],
   "source": [
    "# the resulting shapes of X and y should be (4177, 7) and (4177,) respectively\n",
    "print(X.shape)\n",
    "print(y.shape)"
   ]
  },
  {
   "cell_type": "markdown",
   "id": "1e27a566",
   "metadata": {},
   "source": [
    "Now we need to split up our data into training and test data. Using scikit-learn's `train_test_split` function, using a `test_size` of 0.2 (i.e. 20% of data in test set), and ensure that the random state is set to our seed from above.\n",
    "\n",
    "Documentation for `train_test_split()` can be found here: https://scikit-learn.org/1.1/modules/generated/sklearn.model_selection.train_test_split.html"
   ]
  },
  {
   "cell_type": "code",
   "execution_count": null,
   "id": "12bbb2e3",
   "metadata": {},
   "outputs": [],
   "source": [
    "# do the train test split\n",
    "X_train, X_test, y_train, y_test = train_test_split(X, y, test_size=0.20, random_state=SEED)"
   ]
  },
  {
   "cell_type": "markdown",
   "id": "699f120b",
   "metadata": {},
   "source": [
    "Now let's verify to make sure you split your data identically. "
   ]
  },
  {
   "cell_type": "markdown",
   "id": "512b2b9f",
   "metadata": {},
   "source": [
    "## Question 5\n",
    "There are __ rows in the train data and __ rows in the test data"
   ]
  },
  {
   "cell_type": "code",
   "execution_count": null,
   "id": "be55d1fe",
   "metadata": {},
   "outputs": [],
   "source": [
    "# finding out the shape of the 'X_train' array will be able to check the number of records in the train data\n"
   ]
  },
  {
   "cell_type": "code",
   "execution_count": null,
   "id": "86b5703a",
   "metadata": {},
   "outputs": [],
   "source": [
    "# finding out the shape of the 'y_test' array will be able to check the number of records in the test data\n"
   ]
  },
  {
   "cell_type": "markdown",
   "id": "f6471b31",
   "metadata": {},
   "source": [
    "# Modelling\n",
    "So now let's make our model! Check the docs for the `KNeighborsRegressor()` scikit-learn function with a starting 'k' value of '3' (this can be any other number). Then fit the training data on it.\n",
    "\n",
    "Documentation for `KNeighborsRegressor()` can be found here: https://scikit-learn.org/stable/modules/generated/sklearn.neighbors.KNeighborsRegressor.html"
   ]
  },
  {
   "cell_type": "code",
   "execution_count": null,
   "id": "4bd8bbb6",
   "metadata": {},
   "outputs": [],
   "source": [
    "# instantiate kNN classifier model with the 'k' value \n",
    "knn = KNeighborsRegressor(n_neighbors=3)\n",
    "# fit the training data (X_train, y_train) to it\n",
    "knn.fit(X_train, y_train)"
   ]
  },
  {
   "cell_type": "markdown",
   "id": "df7bc3b5",
   "metadata": {},
   "source": [
    "## Question 6\n",
    "What is the predicted number of rings of the first abalone in the `X_test` dataset?"
   ]
  },
  {
   "cell_type": "code",
   "execution_count": null,
   "id": "9a481229",
   "metadata": {},
   "outputs": [],
   "source": [
    "# obtain predictions of the model using the test data set 'X_test'\n",
    "y_pred = \n",
    "# obtain the first prediction made\n"
   ]
  },
  {
   "cell_type": "markdown",
   "id": "8f5b3c51",
   "metadata": {},
   "source": [
    "# Evaluation\n",
    "Now we need to evaluate how our model did. Let's start by calculating the root-mean-square error (RMSE). The RMSE of a prediction is computed as follows:\n",
    "\n",
    "    1. Compute the difference between each data point’s actual value and predicted value.\n",
    "    2. For each difference, take the square of this difference.\n",
    "    3. Sum all the squared differences.\n",
    "    4. Take the square root of the summed value."
   ]
  },
  {
   "cell_type": "markdown",
   "id": "49aebe4f",
   "metadata": {},
   "source": [
    "## Question 7\n",
    "What is the RMSE of the model based on the test data?"
   ]
  },
  {
   "cell_type": "code",
   "execution_count": null,
   "id": "f5867ea8",
   "metadata": {
    "scrolled": true
   },
   "outputs": [],
   "source": [
    "# Calculate the MSE by comparing the model predictions 'y_pred' against the test data 'y_test'\n",
    "mse = \n",
    "\n",
    "# Calculate RMSE by taking the squareroot of MSE\n",
    "rmse = \n",
    "rmse"
   ]
  },
  {
   "cell_type": "markdown",
   "id": "e5d3e41b",
   "metadata": {},
   "source": [
    "Another way to evaluate our model is to visualise and compare the predictions using simple scatter plots\n",
    "\n",
    "We can do this by first plotting a scatter plot of the `Length` and `Diameter` variables of the `X_test` dataset against the `Rings` target variable. In addition, we color the points based on the predicted `Rings` variables from the model prediction `y_pred`. "
   ]
  },
  {
   "cell_type": "code",
   "execution_count": null,
   "id": "387e5995",
   "metadata": {},
   "outputs": [],
   "source": [
    "# specify the color scheme for the scatterplot\n",
    "cmap = sns.cubehelix_palette(as_cmap=True)\n",
    "# plots axis\n",
    "f, ax = plt.subplots()\n",
    "# plots the `Length` and 'Diameter' variables of the 'X_test' set against 'Rings', as well as prediction points 'y_pred'\n",
    "points = ax.scatter(X_test[:, 0], X_test[:, 1], c=y_pred, s=50, cmap=cmap)\n",
    "# specify color to points\n",
    "f.colorbar(points)\n",
    "plt.show()"
   ]
  },
  {
   "cell_type": "markdown",
   "id": "024be943",
   "metadata": {},
   "source": [
    "Next, we can do plot another scatter plot of the `Length` and `Diameter` variables of the `X_test` dataset against the `Rings` target variable. However, now color the points based on the actual `Rings` variable from `y_test`. "
   ]
  },
  {
   "cell_type": "code",
   "execution_count": null,
   "id": "f5fbab8e",
   "metadata": {},
   "outputs": [],
   "source": [
    "# specify the color scheme for the scatterplot\n",
    "cmap = sns.cubehelix_palette(as_cmap=True)\n",
    "# plots axis\n",
    "f, ax = plt.subplots()\n",
    "# plots the `Length` and 'Diameter' variables of the 'X_test' set against 'Rings', as well as prediction points 'y_test'\n",
    "points = ax.scatter(X_test[:, 0], X_test[:, 1], c=y_test, s=50, cmap=cmap)\n",
    "# specify color to points\n",
    "f.colorbar(points)\n",
    "plt.show()"
   ]
  },
  {
   "cell_type": "markdown",
   "id": "f97d26d1",
   "metadata": {},
   "source": [
    "## Question 8\n",
    "Based on the scatterplots, is the model learning the trends in ages of abalones correctly?"
   ]
  },
  {
   "cell_type": "markdown",
   "id": "8be17be4",
   "metadata": {},
   "source": [
    "# Optional Discussion\n",
    "While our model has learned some of the relationships from the data, it still can be improved. What could we try in subsequent models? \n",
    "\n",
    "We could use ensemble methods like Bagging, a method that fits a large number of the models with slight fit variations, to improve the RMSE rate. Bagging is typically used for decision trees, but kNN works perfectly as well.\n",
    "\n",
    "Ensemble methods are often more performant than single models. One model can be wrong from time to time, but the average of a hundred models should be wrong less often. The errors of different individual models are likely to average each other out, and the resulting prediction will be less variable."
   ]
  },
  {
   "cell_type": "code",
   "execution_count": null,
   "id": "07cb9ef2",
   "metadata": {},
   "outputs": [],
   "source": [
    "# create new kNN regressor instance for bagging\n",
    "bagged_knn = KNeighborsRegressor(n_neighbors=3)\n",
    "\n",
    "# create a new instance with 100 estimators using the bagged_knn model\n",
    "bagging_model = BaggingRegressor(bagged_knn, n_estimators=100)"
   ]
  },
  {
   "cell_type": "code",
   "execution_count": null,
   "id": "8ad436d8",
   "metadata": {},
   "outputs": [],
   "source": [
    "# fit the training data (X_train, y_train) to it\n",
    "bagging_model.fit(X_train, y_train)"
   ]
  },
  {
   "cell_type": "code",
   "execution_count": null,
   "id": "2e7eb222",
   "metadata": {},
   "outputs": [],
   "source": [
    "# Now we can make a prediction and calculate the RMSE to see if it improved:\n",
    "test_preds_grid = bagging_model.predict(X_test)\n",
    "\n",
    "test_mse = mean_squared_error(y_test, test_preds_grid)\n",
    "test_rmse = sqrt(test_mse)\n",
    "test_rmse"
   ]
  },
  {
   "cell_type": "markdown",
   "id": "d0ec44db",
   "metadata": {},
   "source": [
    "Now that we have used bagging to improve the RMSE score of the model by a little, there are always more ways to improve the model performance. Here's a non-exhaustive list of ideas:\n",
    "1. We could improve the accuracy of the model by optimising the 'k' value through cross-validation\n",
    "2. Further feature engineering to clean the dataset before training (Feature scaling, removing outliers, removing poorly correlated features)\n",
    "\n",
    "As with Quest 2, attempting further improvements are left as an exercise to the reader ;)"
   ]
  },
  {
   "cell_type": "markdown",
   "id": "8fba857a",
   "metadata": {},
   "source": [
    "# Prepare your Submission\n",
    "Congratulations, you made it to the end of this lesson! Be sure to complete the few remaining quiz questions, and prepare your submission:\n",
    "1. Replace the value of the `NAME` variable with your StackUp name and run the cells below.\n",
    "2. Restart your notebook, then run it from start to end.\n",
    "3. Take a screenshot of the output from the last cell in this notebook. Make sure your screenshot shows your taskbar/dock (i.e. take a screenshot of the whole screen, not just the window).\n",
    "\n",
    "Remember to obtain the RMSE score of your model before bagging"
   ]
  },
  {
   "cell_type": "code",
   "execution_count": null,
   "id": "2c10abe3",
   "metadata": {},
   "outputs": [],
   "source": [
    "# replace this with your stackup name\n",
    "NAME = \"yourstackupname\""
   ]
  },
  {
   "cell_type": "code",
   "execution_count": null,
   "id": "1eeb9dbb",
   "metadata": {},
   "outputs": [],
   "source": [
    "# fill out this cell appropriately, then take a screenshot of the result\n",
    "print(f\"{'Name':<20}: {NAME}\")\n",
    "# RMSE score\n",
    "print(f\"Calculated root-mean-square error: {rmse}\")\n",
    "# specify the color scheme for the scatterplot\n",
    "cmap = sns.cubehelix_palette(as_cmap=True)\n",
    "# plots axis\n",
    "f, ax = plt.subplots()\n",
    "# plots the `Length` and 'Diameter' variables of the 'X_test' set against 'Rings', as well as prediction points 'y_pred'\n",
    "points = ax.scatter(X_test[:, 0], X_test[:, 1], c=y_pred, s=50, cmap=cmap)\n",
    "# specify color to points\n",
    "f.colorbar(points)\n",
    "plt.title(\"Scattor Plot of Abalone Length against Diameter\")\n",
    "plt.xlabel(\"length\")\n",
    "plt.ylabel(\"diameter\")\n",
    "plt.show()"
   ]
  }
 ],
 "metadata": {
  "kernelspec": {
   "display_name": "Python 3",
   "language": "python",
   "name": "python3"
  },
  "language_info": {
   "codemirror_mode": {
    "name": "ipython",
    "version": 3
   },
   "file_extension": ".py",
   "mimetype": "text/x-python",
   "name": "python",
   "nbconvert_exporter": "python",
   "pygments_lexer": "ipython3",
   "version": "3.8.8"
  }
 },
 "nbformat": 4,
 "nbformat_minor": 5
}
